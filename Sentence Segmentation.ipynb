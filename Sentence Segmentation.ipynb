{
 "cells": [
  {
   "cell_type": "code",
   "execution_count": 1,
   "metadata": {
    "colab": {},
    "colab_type": "code",
    "id": "x0puB4F287Qw"
   },
   "outputs": [],
   "source": [
    "import pandas as pd\n",
    "import re"
   ]
  },
  {
   "cell_type": "code",
   "execution_count": 2,
   "metadata": {
    "colab": {},
    "colab_type": "code",
    "id": "1uoFCjtK9C4g"
   },
   "outputs": [],
   "source": [
    "data = pd.read_csv(\"/Users/suresh/Downloads/sentences.csv\",sep='\\t')"
   ]
  },
  {
   "cell_type": "code",
   "execution_count": 3,
   "metadata": {
    "colab": {
     "base_uri": "https://localhost:8080/",
     "height": 204
    },
    "colab_type": "code",
    "executionInfo": {
     "elapsed": 2386,
     "status": "ok",
     "timestamp": 1572778458708,
     "user": {
      "displayName": "Suresh Attaluri",
      "photoUrl": "https://lh3.googleusercontent.com/a-/AAuE7mB4XMWuQVUm-cYpl_L8ObRTv6vMDb4-gzLd5xssSg=s64",
      "userId": "08370249385320949451"
     },
     "user_tz": -330
    },
    "id": "11QaD4ze9QDO",
    "outputId": "0a1d808e-7491-4745-be24-1fd8a863b799"
   },
   "outputs": [
    {
     "data": {
      "text/html": [
       "<div>\n",
       "<style scoped>\n",
       "    .dataframe tbody tr th:only-of-type {\n",
       "        vertical-align: middle;\n",
       "    }\n",
       "\n",
       "    .dataframe tbody tr th {\n",
       "        vertical-align: top;\n",
       "    }\n",
       "\n",
       "    .dataframe thead th {\n",
       "        text-align: right;\n",
       "    }\n",
       "</style>\n",
       "<table border=\"1\" class=\"dataframe\">\n",
       "  <thead>\n",
       "    <tr style=\"text-align: right;\">\n",
       "      <th></th>\n",
       "      <th>Sno</th>\n",
       "      <th>Language</th>\n",
       "      <th>Text</th>\n",
       "    </tr>\n",
       "  </thead>\n",
       "  <tbody>\n",
       "    <tr>\n",
       "      <th>0</th>\n",
       "      <td>2</td>\n",
       "      <td>cmn</td>\n",
       "      <td>我该去睡觉了。</td>\n",
       "    </tr>\n",
       "    <tr>\n",
       "      <th>1</th>\n",
       "      <td>3</td>\n",
       "      <td>cmn</td>\n",
       "      <td>你在干什麼啊？</td>\n",
       "    </tr>\n",
       "    <tr>\n",
       "      <th>2</th>\n",
       "      <td>4</td>\n",
       "      <td>cmn</td>\n",
       "      <td>這是什麼啊？</td>\n",
       "    </tr>\n",
       "    <tr>\n",
       "      <th>3</th>\n",
       "      <td>5</td>\n",
       "      <td>cmn</td>\n",
       "      <td>今天是６月１８号，也是Muiriel的生日！</td>\n",
       "    </tr>\n",
       "    <tr>\n",
       "      <th>4</th>\n",
       "      <td>6</td>\n",
       "      <td>cmn</td>\n",
       "      <td>生日快乐，Muiriel！</td>\n",
       "    </tr>\n",
       "  </tbody>\n",
       "</table>\n",
       "</div>"
      ],
      "text/plain": [
       "   Sno Language                    Text\n",
       "0    2      cmn                 我该去睡觉了。\n",
       "1    3      cmn                 你在干什麼啊？\n",
       "2    4      cmn                  這是什麼啊？\n",
       "3    5      cmn  今天是６月１８号，也是Muiriel的生日！\n",
       "4    6      cmn           生日快乐，Muiriel！"
      ]
     },
     "execution_count": 3,
     "metadata": {},
     "output_type": "execute_result"
    }
   ],
   "source": [
    "data.columns = ['Sno','Language','Text']\n",
    "data.head()"
   ]
  },
  {
   "cell_type": "code",
   "execution_count": 4,
   "metadata": {
    "colab": {},
    "colab_type": "code",
    "id": "WS6zXbDq9QGF"
   },
   "outputs": [],
   "source": [
    "data = data[data['Language']=='eng']\n",
    "data = data[['Sno','Language','Text']]"
   ]
  },
  {
   "cell_type": "code",
   "execution_count": 5,
   "metadata": {
    "colab": {},
    "colab_type": "code",
    "id": "q6wEcTENeQcj"
   },
   "outputs": [],
   "source": [
    "data['Sno'] = list(data.index)"
   ]
  },
  {
   "cell_type": "code",
   "execution_count": 6,
   "metadata": {
    "colab": {
     "base_uri": "https://localhost:8080/",
     "height": 34
    },
    "colab_type": "code",
    "executionInfo": {
     "elapsed": 1616,
     "status": "ok",
     "timestamp": 1572778459465,
     "user": {
      "displayName": "Suresh Attaluri",
      "photoUrl": "https://lh3.googleusercontent.com/a-/AAuE7mB4XMWuQVUm-cYpl_L8ObRTv6vMDb4-gzLd5xssSg=s64",
      "userId": "08370249385320949451"
     },
     "user_tz": -330
    },
    "id": "MBUdvJK_9QJE",
    "outputId": "9f1e8478-eed4-4048-e0c8-69392f98cf71"
   },
   "outputs": [
    {
     "data": {
      "text/plain": [
       "1234502"
      ]
     },
     "execution_count": 6,
     "metadata": {},
     "output_type": "execute_result"
    }
   ],
   "source": [
    "data.shape[0]"
   ]
  },
  {
   "cell_type": "code",
   "execution_count": 7,
   "metadata": {
    "colab": {
     "base_uri": "https://localhost:8080/",
     "height": 204
    },
    "colab_type": "code",
    "executionInfo": {
     "elapsed": 1144,
     "status": "ok",
     "timestamp": 1572778459465,
     "user": {
      "displayName": "Suresh Attaluri",
      "photoUrl": "https://lh3.googleusercontent.com/a-/AAuE7mB4XMWuQVUm-cYpl_L8ObRTv6vMDb4-gzLd5xssSg=s64",
      "userId": "08370249385320949451"
     },
     "user_tz": -330
    },
    "id": "aqGfnET5eaZr",
    "outputId": "a32f3327-475b-454a-de95-a67e45edd181"
   },
   "outputs": [
    {
     "data": {
      "text/html": [
       "<div>\n",
       "<style scoped>\n",
       "    .dataframe tbody tr th:only-of-type {\n",
       "        vertical-align: middle;\n",
       "    }\n",
       "\n",
       "    .dataframe tbody tr th {\n",
       "        vertical-align: top;\n",
       "    }\n",
       "\n",
       "    .dataframe thead th {\n",
       "        text-align: right;\n",
       "    }\n",
       "</style>\n",
       "<table border=\"1\" class=\"dataframe\">\n",
       "  <thead>\n",
       "    <tr style=\"text-align: right;\">\n",
       "      <th></th>\n",
       "      <th>Sno</th>\n",
       "      <th>Language</th>\n",
       "      <th>Text</th>\n",
       "    </tr>\n",
       "  </thead>\n",
       "  <tbody>\n",
       "    <tr>\n",
       "      <th>1231</th>\n",
       "      <td>1231</td>\n",
       "      <td>eng</td>\n",
       "      <td>Let's try something.</td>\n",
       "    </tr>\n",
       "    <tr>\n",
       "      <th>1232</th>\n",
       "      <td>1232</td>\n",
       "      <td>eng</td>\n",
       "      <td>I have to go to sleep.</td>\n",
       "    </tr>\n",
       "    <tr>\n",
       "      <th>1234</th>\n",
       "      <td>1234</td>\n",
       "      <td>eng</td>\n",
       "      <td>Today is June 18th and it is Muiriel's birthday!</td>\n",
       "    </tr>\n",
       "    <tr>\n",
       "      <th>1235</th>\n",
       "      <td>1235</td>\n",
       "      <td>eng</td>\n",
       "      <td>Muiriel is 20 now.</td>\n",
       "    </tr>\n",
       "    <tr>\n",
       "      <th>1236</th>\n",
       "      <td>1236</td>\n",
       "      <td>eng</td>\n",
       "      <td>The password is \"Muiriel\".</td>\n",
       "    </tr>\n",
       "  </tbody>\n",
       "</table>\n",
       "</div>"
      ],
      "text/plain": [
       "       Sno Language                                              Text\n",
       "1231  1231      eng                              Let's try something.\n",
       "1232  1232      eng                            I have to go to sleep.\n",
       "1234  1234      eng  Today is June 18th and it is Muiriel's birthday!\n",
       "1235  1235      eng                                Muiriel is 20 now.\n",
       "1236  1236      eng                        The password is \"Muiriel\"."
      ]
     },
     "execution_count": 7,
     "metadata": {},
     "output_type": "execute_result"
    }
   ],
   "source": [
    "data.head()"
   ]
  },
  {
   "cell_type": "code",
   "execution_count": 8,
   "metadata": {
    "colab": {
     "base_uri": "https://localhost:8080/",
     "height": 34
    },
    "colab_type": "code",
    "executionInfo": {
     "elapsed": 1306,
     "status": "ok",
     "timestamp": 1572778460128,
     "user": {
      "displayName": "Suresh Attaluri",
      "photoUrl": "https://lh3.googleusercontent.com/a-/AAuE7mB4XMWuQVUm-cYpl_L8ObRTv6vMDb4-gzLd5xssSg=s64",
      "userId": "08370249385320949451"
     },
     "user_tz": -330
    },
    "id": "ZEbcIxY29QLo",
    "outputId": "79c14d48-cfac-4fbb-c83e-e614d979c85e"
   },
   "outputs": [
    {
     "data": {
      "text/plain": [
       "range(0, 123451)"
      ]
     },
     "execution_count": 8,
     "metadata": {},
     "output_type": "execute_result"
    }
   ],
   "source": [
    "import math\n",
    "range(0,math.ceil(data.shape[0]/10))"
   ]
  },
  {
   "cell_type": "code",
   "execution_count": 9,
   "metadata": {
    "colab": {},
    "colab_type": "code",
    "id": "mlm8Pdfi9QOW"
   },
   "outputs": [],
   "source": [
    "def generate_text(all_sentences=None):\n",
    "    data_tagged = []\n",
    "    comb_sents_num = 2\n",
    "    num_texts = math.ceil(len(all_sentences)/comb_sents_num)\n",
    "    \n",
    "    for i in range(0,num_texts):\n",
    "      #print(i)      \n",
    "      l_limit = i * comb_sents_num\n",
    "      if (i*comb_sents_num) + comb_sents_num > num_texts:\n",
    "        u_limit = num_texts\n",
    "      else:    \n",
    "        u_limit = (i*comb_sents_num) + comb_sents_num\n",
    "      sentence_i = 0\n",
    "      d = []\n",
    "      for each_sent in all_sentences[l_limit:u_limit]:\n",
    "              \n",
    "        words = each_sent.split(\" \")\n",
    "        words[-1] = re.sub('[^0-9a-zA-Z]+', '', words[-1])\n",
    "        tags = ['neos']*(len(words)-1)\n",
    "        tags.append('eos')\n",
    "        text_num = ['Text '+str(i)]*len(words)\n",
    "        sentence_num = ['Sentence '+str(sentence_i)]*len(words)\n",
    "        d.extend([(w,t) for w,t in zip(words,tags)])\n",
    "        data_tagged.append(d)\n",
    "        sentence_i = sentence_i+1\n",
    "    return data_tagged        "
   ]
  },
  {
   "cell_type": "code",
   "execution_count": 10,
   "metadata": {
    "colab": {},
    "colab_type": "code",
    "id": "67jIUWIw9QQp"
   },
   "outputs": [],
   "source": [
    "texts = generate_text(data['Text'].values.tolist())"
   ]
  },
  {
   "cell_type": "code",
   "execution_count": 11,
   "metadata": {
    "colab": {
     "base_uri": "https://localhost:8080/",
     "height": 187
    },
    "colab_type": "code",
    "executionInfo": {
     "elapsed": 879,
     "status": "ok",
     "timestamp": 1572778461575,
     "user": {
      "displayName": "Suresh Attaluri",
      "photoUrl": "https://lh3.googleusercontent.com/a-/AAuE7mB4XMWuQVUm-cYpl_L8ObRTv6vMDb4-gzLd5xssSg=s64",
      "userId": "08370249385320949451"
     },
     "user_tz": -330
    },
    "id": "44ooe3pntGPC",
    "outputId": "2e29b0e0-822a-450d-a1f4-61058f380edb"
   },
   "outputs": [
    {
     "data": {
      "text/plain": [
       "[(\"Let's\", 'neos'),\n",
       " ('try', 'neos'),\n",
       " ('something', 'eos'),\n",
       " ('I', 'neos'),\n",
       " ('have', 'neos'),\n",
       " ('to', 'neos'),\n",
       " ('go', 'neos'),\n",
       " ('to', 'neos'),\n",
       " ('sleep', 'eos')]"
      ]
     },
     "execution_count": 11,
     "metadata": {},
     "output_type": "execute_result"
    }
   ],
   "source": [
    "texts[0][0:10]"
   ]
  },
  {
   "cell_type": "code",
   "execution_count": 12,
   "metadata": {
    "colab": {},
    "colab_type": "code",
    "id": "ioomUpvdc9ro"
   },
   "outputs": [],
   "source": [
    "max_len = 50\n",
    "tag2idx = {t: i for i, t in enumerate(['neos','eos'])}"
   ]
  },
  {
   "cell_type": "code",
   "execution_count": 13,
   "metadata": {
    "colab": {
     "base_uri": "https://localhost:8080/",
     "height": 34
    },
    "colab_type": "code",
    "executionInfo": {
     "elapsed": 992,
     "status": "ok",
     "timestamp": 1572778462831,
     "user": {
      "displayName": "Suresh Attaluri",
      "photoUrl": "https://lh3.googleusercontent.com/a-/AAuE7mB4XMWuQVUm-cYpl_L8ObRTv6vMDb4-gzLd5xssSg=s64",
      "userId": "08370249385320949451"
     },
     "user_tz": -330
    },
    "id": "CQEi-vhHentI",
    "outputId": "7ee8944b-7202-487a-8a00-13c5231cf6bf"
   },
   "outputs": [
    {
     "data": {
      "text/plain": [
       "{'eos': 1, 'neos': 0}"
      ]
     },
     "execution_count": 13,
     "metadata": {},
     "output_type": "execute_result"
    }
   ],
   "source": [
    "tag2idx"
   ]
  },
  {
   "cell_type": "code",
   "execution_count": 14,
   "metadata": {
    "colab": {},
    "colab_type": "code",
    "id": "GP6uXKekeva5"
   },
   "outputs": [],
   "source": [
    "X = [[w[0] for w in t] for t in texts]\n",
    "new_X = []\n",
    "for seq in X:\n",
    "    new_seq = []\n",
    "    for i in range(max_len):\n",
    "        try:\n",
    "            new_seq.append(seq[i])\n",
    "        except:\n",
    "            new_seq.append(\"__PAD__\")\n",
    "    new_X.append(new_seq)\n",
    "X = new_X"
   ]
  },
  {
   "cell_type": "code",
   "execution_count": 15,
   "metadata": {
    "colab": {
     "base_uri": "https://localhost:8080/",
     "height": 51
    },
    "colab_type": "code",
    "executionInfo": {
     "elapsed": 21625,
     "status": "ok",
     "timestamp": 1572778484597,
     "user": {
      "displayName": "Suresh Attaluri",
      "photoUrl": "https://lh3.googleusercontent.com/a-/AAuE7mB4XMWuQVUm-cYpl_L8ObRTv6vMDb4-gzLd5xssSg=s64",
      "userId": "08370249385320949451"
     },
     "user_tz": -330
    },
    "id": "wjknpDu5fWCc",
    "outputId": "30fc02aa-d10d-465b-c4e7-d5a74f255234"
   },
   "outputs": [
    {
     "name": "stdout",
     "output_type": "stream",
     "text": [
      "[\"Let's\", 'try', 'something', 'I', 'have', 'to', 'go', 'to', 'sleep', '__PAD__']\n",
      "['__PAD__', '__PAD__', '__PAD__', '__PAD__', '__PAD__', '__PAD__', '__PAD__', '__PAD__', '__PAD__']\n"
     ]
    }
   ],
   "source": [
    "print(X[0][:10])\n",
    "print(X[0][-10:-1])"
   ]
  },
  {
   "cell_type": "code",
   "execution_count": 16,
   "metadata": {
    "colab": {},
    "colab_type": "code",
    "id": "uI5Zvnx_fbSF"
   },
   "outputs": [],
   "source": [
    "y = [[tag2idx[w[1]] for w in t] for t in texts]"
   ]
  },
  {
   "cell_type": "code",
   "execution_count": 17,
   "metadata": {
    "colab": {},
    "colab_type": "code",
    "id": "lZaE_EwIwNuF"
   },
   "outputs": [],
   "source": [
    "del data\n",
    "del new_X\n",
    "#del w\n",
    "#del t\n",
    "#del new_seq\n",
    "del texts"
   ]
  },
  {
   "cell_type": "code",
   "execution_count": 18,
   "metadata": {
    "colab": {
     "base_uri": "https://localhost:8080/",
     "height": 80
    },
    "colab_type": "code",
    "executionInfo": {
     "elapsed": 25070,
     "status": "ok",
     "timestamp": 1572778490132,
     "user": {
      "displayName": "Suresh Attaluri",
      "photoUrl": "https://lh3.googleusercontent.com/a-/AAuE7mB4XMWuQVUm-cYpl_L8ObRTv6vMDb4-gzLd5xssSg=s64",
      "userId": "08370249385320949451"
     },
     "user_tz": -330
    },
    "id": "Fkbj7UKvgKHF",
    "outputId": "2aecef80-f129-441d-913e-4f2abecee1bc"
   },
   "outputs": [
    {
     "name": "stderr",
     "output_type": "stream",
     "text": [
      "Using TensorFlow backend.\n"
     ]
    }
   ],
   "source": [
    "from keras.preprocessing.sequence import pad_sequences\n",
    "y = pad_sequences(maxlen=max_len, sequences=y, padding=\"post\", value=tag2idx[\"neos\"])"
   ]
  },
  {
   "cell_type": "code",
   "execution_count": 19,
   "metadata": {
    "colab": {
     "base_uri": "https://localhost:8080/",
     "height": 34
    },
    "colab_type": "code",
    "executionInfo": {
     "elapsed": 24372,
     "status": "ok",
     "timestamp": 1572778490133,
     "user": {
      "displayName": "Suresh Attaluri",
      "photoUrl": "https://lh3.googleusercontent.com/a-/AAuE7mB4XMWuQVUm-cYpl_L8ObRTv6vMDb4-gzLd5xssSg=s64",
      "userId": "08370249385320949451"
     },
     "user_tz": -330
    },
    "id": "tROQPE2QgeSi",
    "outputId": "ba660d88-9c1e-4eec-9868-fb71e82058bf"
   },
   "outputs": [
    {
     "data": {
      "text/plain": [
       "array([0, 0, 0, 0, 0, 0, 0, 0, 0], dtype=int32)"
      ]
     },
     "execution_count": 19,
     "metadata": {},
     "output_type": "execute_result"
    }
   ],
   "source": [
    "y[0][-10:-1]"
   ]
  },
  {
   "cell_type": "code",
   "execution_count": 20,
   "metadata": {
    "colab": {},
    "colab_type": "code",
    "id": "BDY06qmngrUg"
   },
   "outputs": [],
   "source": [
    "from sklearn.model_selection import train_test_split"
   ]
  },
  {
   "cell_type": "code",
   "execution_count": 21,
   "metadata": {
    "colab": {},
    "colab_type": "code",
    "id": "WrAv-Jhqg0pe"
   },
   "outputs": [],
   "source": [
    "X_tr, X_te, y_tr, y_te = train_test_split(X, y, test_size=0.1, random_state=2019)"
   ]
  },
  {
   "cell_type": "code",
   "execution_count": 22,
   "metadata": {
    "colab": {},
    "colab_type": "code",
    "id": "eMiep3d5nYDx"
   },
   "outputs": [],
   "source": [
    "del X\n",
    "del y"
   ]
  },
  {
   "cell_type": "code",
   "execution_count": 23,
   "metadata": {
    "colab": {},
    "colab_type": "code",
    "id": "VNtRewq7g7vm"
   },
   "outputs": [],
   "source": [
    "batch_size = 32"
   ]
  },
  {
   "cell_type": "code",
   "execution_count": 24,
   "metadata": {
    "colab": {},
    "colab_type": "code",
    "id": "geGPPfR7g_9L"
   },
   "outputs": [],
   "source": [
    "import tensorflow as tf\n",
    "import tensorflow_hub as hub\n",
    "from keras import backend as K"
   ]
  },
  {
   "cell_type": "code",
   "execution_count": 25,
   "metadata": {
    "colab": {
     "base_uri": "https://localhost:8080/",
     "height": 34
    },
    "colab_type": "code",
    "executionInfo": {
     "elapsed": 20070,
     "status": "ok",
     "timestamp": 1572778490138,
     "user": {
      "displayName": "Suresh Attaluri",
      "photoUrl": "https://lh3.googleusercontent.com/a-/AAuE7mB4XMWuQVUm-cYpl_L8ObRTv6vMDb4-gzLd5xssSg=s64",
      "userId": "08370249385320949451"
     },
     "user_tz": -330
    },
    "id": "B5oyMcGXhDyk",
    "outputId": "b1feda99-56dd-46be-c2c1-9c291bd4f38d"
   },
   "outputs": [
    {
     "data": {
      "text/plain": [
       "'1.15.0-rc3'"
      ]
     },
     "execution_count": 25,
     "metadata": {},
     "output_type": "execute_result"
    }
   ],
   "source": [
    "tf.__version__"
   ]
  },
  {
   "cell_type": "code",
   "execution_count": 26,
   "metadata": {
    "colab": {},
    "colab_type": "code",
    "id": "Eu30WqhahGfa"
   },
   "outputs": [],
   "source": [
    "sess = tf.Session()\n",
    "K.set_session(sess)"
   ]
  },
  {
   "cell_type": "code",
   "execution_count": 27,
   "metadata": {
    "colab": {},
    "colab_type": "code",
    "id": "k62ZfCnShKy5"
   },
   "outputs": [],
   "source": [
    "elmo_model = hub.Module(\"https://tfhub.dev/google/elmo/2\", trainable=True)\n",
    "sess.run(tf.global_variables_initializer())\n",
    "sess.run(tf.tables_initializer())"
   ]
  },
  {
   "cell_type": "code",
   "execution_count": 28,
   "metadata": {
    "colab": {},
    "colab_type": "code",
    "id": "KVs3gJt3hOnx"
   },
   "outputs": [],
   "source": [
    "def ElmoEmbedding(x):\n",
    "    return elmo_model(inputs={\n",
    "                            \"tokens\": tf.squeeze(tf.cast(x, tf.string)),\n",
    "                            \"sequence_len\": tf.constant(batch_size*[max_len])\n",
    "                      },\n",
    "                      signature=\"tokens\",\n",
    "                      as_dict=True)[\"elmo\"]"
   ]
  },
  {
   "cell_type": "code",
   "execution_count": 29,
   "metadata": {
    "colab": {},
    "colab_type": "code",
    "id": "p16WKGb0hgVT"
   },
   "outputs": [],
   "source": [
    "from keras.models import Model, Input\n",
    "from keras.layers.merge import add\n",
    "from keras.layers import LSTM, Embedding, Dense, TimeDistributed, Dropout, Bidirectional, Lambda"
   ]
  },
  {
   "cell_type": "code",
   "execution_count": 30,
   "metadata": {
    "colab": {
     "base_uri": "https://localhost:8080/",
     "height": 445
    },
    "colab_type": "code",
    "executionInfo": {
     "elapsed": 18610,
     "status": "ok",
     "timestamp": 1572778495908,
     "user": {
      "displayName": "Suresh Attaluri",
      "photoUrl": "https://lh3.googleusercontent.com/a-/AAuE7mB4XMWuQVUm-cYpl_L8ObRTv6vMDb4-gzLd5xssSg=s64",
      "userId": "08370249385320949451"
     },
     "user_tz": -330
    },
    "id": "3sq2iLpFhk7D",
    "outputId": "03fade4b-028d-4b2c-b872-0c260ee583aa"
   },
   "outputs": [
    {
     "name": "stdout",
     "output_type": "stream",
     "text": [
      "INFO:tensorflow:Saver not created because there are no variables in the graph to restore\n"
     ]
    },
    {
     "name": "stderr",
     "output_type": "stream",
     "text": [
      "INFO:tensorflow:Saver not created because there are no variables in the graph to restore\n"
     ]
    },
    {
     "name": "stdout",
     "output_type": "stream",
     "text": [
      "WARNING:tensorflow:From /anaconda3/lib/python3.6/site-packages/tensorflow_core/python/ops/resource_variable_ops.py:1630: calling BaseResourceVariable.__init__ (from tensorflow.python.ops.resource_variable_ops) with constraint is deprecated and will be removed in a future version.\n",
      "Instructions for updating:\n",
      "If using Keras pass *_constraint arguments to layers.\n"
     ]
    },
    {
     "name": "stderr",
     "output_type": "stream",
     "text": [
      "WARNING:tensorflow:From /anaconda3/lib/python3.6/site-packages/tensorflow_core/python/ops/resource_variable_ops.py:1630: calling BaseResourceVariable.__init__ (from tensorflow.python.ops.resource_variable_ops) with constraint is deprecated and will be removed in a future version.\n",
      "Instructions for updating:\n",
      "If using Keras pass *_constraint arguments to layers.\n"
     ]
    }
   ],
   "source": [
    "input_text = Input(shape=(max_len,), dtype='string')\n",
    "embedding = Lambda(ElmoEmbedding, output_shape=(None, 1024))(input_text)\n",
    "x = Bidirectional(LSTM(units=512, return_sequences=True,\n",
    "                       recurrent_dropout=0.2, dropout=0.2))(embedding)\n",
    "x_rnn = Bidirectional(LSTM(units=512, return_sequences=True,\n",
    "                           recurrent_dropout=0.2, dropout=0.2))(x)\n",
    "x = add([x, x_rnn])  # residual connection to the first biLSTM\n",
    "out = TimeDistributed(Dense(2, activation=\"softmax\"))(x)"
   ]
  },
  {
   "cell_type": "code",
   "execution_count": 31,
   "metadata": {
    "colab": {},
    "colab_type": "code",
    "id": "WGF6HAaths9e"
   },
   "outputs": [],
   "source": [
    "model = Model(input_text, out)"
   ]
  },
  {
   "cell_type": "code",
   "execution_count": 32,
   "metadata": {
    "colab": {
     "base_uri": "https://localhost:8080/",
     "height": 173
    },
    "colab_type": "code",
    "executionInfo": {
     "elapsed": 15554,
     "status": "ok",
     "timestamp": 1572778495910,
     "user": {
      "displayName": "Suresh Attaluri",
      "photoUrl": "https://lh3.googleusercontent.com/a-/AAuE7mB4XMWuQVUm-cYpl_L8ObRTv6vMDb4-gzLd5xssSg=s64",
      "userId": "08370249385320949451"
     },
     "user_tz": -330
    },
    "id": "DC7FXrmXiOmR",
    "outputId": "b1507160-d239-43fb-d882-8290be9b6343"
   },
   "outputs": [],
   "source": [
    "model.compile(optimizer=\"adam\", loss=\"sparse_categorical_crossentropy\", metrics=[\"accuracy\"])"
   ]
  },
  {
   "cell_type": "code",
   "execution_count": 33,
   "metadata": {
    "colab": {
     "base_uri": "https://localhost:8080/",
     "height": 34
    },
    "colab_type": "code",
    "executionInfo": {
     "elapsed": 1518,
     "status": "ok",
     "timestamp": 1572778519856,
     "user": {
      "displayName": "Suresh Attaluri",
      "photoUrl": "https://lh3.googleusercontent.com/a-/AAuE7mB4XMWuQVUm-cYpl_L8ObRTv6vMDb4-gzLd5xssSg=s64",
      "userId": "08370249385320949451"
     },
     "user_tz": -330
    },
    "id": "X9fDLXIekDj4",
    "outputId": "c32e5105-6bbe-429e-8bdb-cc56ea157b9a"
   },
   "outputs": [
    {
     "data": {
      "text/plain": [
       "555525"
      ]
     },
     "execution_count": 33,
     "metadata": {},
     "output_type": "execute_result"
    }
   ],
   "source": [
    "len(X_tr)"
   ]
  },
  {
   "cell_type": "code",
   "execution_count": 34,
   "metadata": {
    "colab": {},
    "colab_type": "code",
    "id": "ylhyqVGfiWSk"
   },
   "outputs": [],
   "source": [
    "X_tr, X_val = X_tr[:(int(len(X_tr)/batch_size))*batch_size], X_tr[-135*batch_size:]\n",
    "y_tr, y_val = y_tr[:int(len(X_tr)/batch_size)*batch_size], y_tr[-135*batch_size:]\n",
    "y_tr = y_tr.reshape(y_tr.shape[0], y_tr.shape[1], 1)\n",
    "y_val = y_val.reshape(y_val.shape[0], y_val.shape[1], 1)"
   ]
  },
  {
   "cell_type": "code",
   "execution_count": 35,
   "metadata": {
    "colab": {
     "base_uri": "https://localhost:8080/",
     "height": 51
    },
    "colab_type": "code",
    "executionInfo": {
     "elapsed": 1406,
     "status": "ok",
     "timestamp": 1572778605119,
     "user": {
      "displayName": "Suresh Attaluri",
      "photoUrl": "https://lh3.googleusercontent.com/a-/AAuE7mB4XMWuQVUm-cYpl_L8ObRTv6vMDb4-gzLd5xssSg=s64",
      "userId": "08370249385320949451"
     },
     "user_tz": -330
    },
    "id": "kl-0Qc2wiwME",
    "outputId": "8bfba980-e672-41ef-af9f-27be29106b16"
   },
   "outputs": [
    {
     "name": "stdout",
     "output_type": "stream",
     "text": [
      "4320\n",
      "555520\n"
     ]
    }
   ],
   "source": [
    "print (len(X_val))\n",
    "print (len(X_tr))"
   ]
  },
  {
   "cell_type": "code",
   "execution_count": 36,
   "metadata": {
    "colab": {},
    "colab_type": "code",
    "id": "YH5VHOhRloPd"
   },
   "outputs": [],
   "source": [
    "import numpy as np"
   ]
  },
  {
   "cell_type": "code",
   "execution_count": null,
   "metadata": {
    "colab": {
     "base_uri": "https://localhost:8080/",
     "height": 1000
    },
    "colab_type": "code",
    "id": "rDGOC0h2iyHE",
    "outputId": "96f2502f-db8f-4390-d5a0-ffa548ccd431"
   },
   "outputs": [
    {
     "name": "stdout",
     "output_type": "stream",
     "text": [
      "WARNING:tensorflow:From /anaconda3/lib/python3.6/site-packages/tensorflow_core/python/ops/math_grad.py:1424: where (from tensorflow.python.ops.array_ops) is deprecated and will be removed in a future version.\n",
      "Instructions for updating:\n",
      "Use tf.where in 2.0, which has the same broadcast rule as np.where\n"
     ]
    },
    {
     "name": "stderr",
     "output_type": "stream",
     "text": [
      "WARNING:tensorflow:From /anaconda3/lib/python3.6/site-packages/tensorflow_core/python/ops/math_grad.py:1424: where (from tensorflow.python.ops.array_ops) is deprecated and will be removed in a future version.\n",
      "Instructions for updating:\n",
      "Use tf.where in 2.0, which has the same broadcast rule as np.where\n"
     ]
    },
    {
     "name": "stdout",
     "output_type": "stream",
     "text": [
      "WARNING:tensorflow:From /anaconda3/lib/python3.6/site-packages/keras/backend/tensorflow_backend.py:422: The name tf.global_variables is deprecated. Please use tf.compat.v1.global_variables instead.\n",
      "\n"
     ]
    },
    {
     "name": "stderr",
     "output_type": "stream",
     "text": [
      "WARNING:tensorflow:From /anaconda3/lib/python3.6/site-packages/keras/backend/tensorflow_backend.py:422: The name tf.global_variables is deprecated. Please use tf.compat.v1.global_variables instead.\n",
      "\n"
     ]
    },
    {
     "name": "stdout",
     "output_type": "stream",
     "text": [
      "WARNING:tensorflow:From /anaconda3/lib/python3.6/site-packages/keras/backend/tensorflow_backend.py:431: The name tf.is_variable_initialized is deprecated. Please use tf.compat.v1.is_variable_initialized instead.\n",
      "\n"
     ]
    },
    {
     "name": "stderr",
     "output_type": "stream",
     "text": [
      "WARNING:tensorflow:From /anaconda3/lib/python3.6/site-packages/keras/backend/tensorflow_backend.py:431: The name tf.is_variable_initialized is deprecated. Please use tf.compat.v1.is_variable_initialized instead.\n",
      "\n"
     ]
    },
    {
     "name": "stdout",
     "output_type": "stream",
     "text": [
      "Train on 555520 samples, validate on 4320 samples\n",
      "Epoch 1/2\n",
      "339456/555520 [=================>............] - ETA: 42:47:45 - loss: 0.0014 - accuracy: 0.9996"
     ]
    }
   ],
   "source": [
    "history = model.fit(np.array(X_tr), y_tr, validation_data=(np.array(X_val), y_val),\n",
    "                    batch_size=batch_size, epochs=2, verbose=1)"
   ]
  },
  {
   "cell_type": "code",
   "execution_count": null,
   "metadata": {},
   "outputs": [],
   "source": [
    "32*5"
   ]
  },
  {
   "cell_type": "code",
   "execution_count": null,
   "metadata": {},
   "outputs": [],
   "source": []
  }
 ],
 "metadata": {
  "colab": {
   "collapsed_sections": [],
   "machine_shape": "hm",
   "name": "Sentence Segmentation.ipynb",
   "provenance": []
  },
  "kernelspec": {
   "display_name": "Python 3",
   "language": "python",
   "name": "python3"
  },
  "language_info": {
   "codemirror_mode": {
    "name": "ipython",
    "version": 3
   },
   "file_extension": ".py",
   "mimetype": "text/x-python",
   "name": "python",
   "nbconvert_exporter": "python",
   "pygments_lexer": "ipython3",
   "version": "3.6.4"
  }
 },
 "nbformat": 4,
 "nbformat_minor": 1
}
